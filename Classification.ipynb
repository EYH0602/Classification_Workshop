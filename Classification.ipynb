{
  "cells": [
    {
      "cell_type": "markdown",
      "metadata": {
        "id": "lcpTPPcqP8ca"
      },
      "source": [
        "# Classification Algorithms\n",
        "\n",
        "As its name tells, these algorithm put items into classes by the features of the items. \n",
        "These classes could be binary (yes or no) or no. For example, predicting hand-written digits into 10 classes (0-9).\n",
        "\n",
        "This workshop we will take a look a three of the traditonal ML algo on classifications with no neurol network involved. We will work the the famous [house-voting dataset](https://archive.ics.uci.edu/ml/datasets/congressional+voting+records) from UCI machine learning repository.\n",
        "\n"
      ]
    },
    {
      "cell_type": "markdown",
      "metadata": {
        "id": "YL86E1U6THix"
      },
      "source": [
        "## Setup\n",
        "\n",
        "### Environment"
      ]
    },
    {
      "cell_type": "code",
      "execution_count": 11,
      "metadata": {
        "id": "d86usk_GTU0u"
      },
      "outputs": [],
      "source": [
        "import numpy as np\n",
        "import operator\n",
        "import pandas as pd\n",
        "import matplotlib.pyplot as plt\n",
        "import math\n",
        "from collections import Counter\n"
      ]
    },
    {
      "cell_type": "markdown",
      "metadata": {
        "id": "oeydEe6gTPpY"
      },
      "source": [
        "\n",
        "### Data Pre-processing\n",
        "\n",
        "We will start by downloading and reshaping the data.\n",
        "[mlb](https://github.com/matloff/regtools/blob/master/data/mlb.txt.gz) dataset contains Major Baseball League player info\n",
        "\n",
        "\n"
      ]
    },
    {
      "cell_type": "code",
      "execution_count": 12,
      "metadata": {},
      "outputs": [
        {
          "data": {
            "text/html": [
              "<div>\n",
              "<style scoped>\n",
              "    .dataframe tbody tr th:only-of-type {\n",
              "        vertical-align: middle;\n",
              "    }\n",
              "\n",
              "    .dataframe tbody tr th {\n",
              "        vertical-align: top;\n",
              "    }\n",
              "\n",
              "    .dataframe thead th {\n",
              "        text-align: right;\n",
              "    }\n",
              "</style>\n",
              "<table border=\"1\" class=\"dataframe\">\n",
              "  <thead>\n",
              "    <tr style=\"text-align: right;\">\n",
              "      <th></th>\n",
              "      <th>Name</th>\n",
              "      <th>Team</th>\n",
              "      <th>Position</th>\n",
              "      <th>Height</th>\n",
              "      <th>Weight</th>\n",
              "      <th>Age</th>\n",
              "      <th>PosCategory</th>\n",
              "    </tr>\n",
              "  </thead>\n",
              "  <tbody>\n",
              "    <tr>\n",
              "      <th>1</th>\n",
              "      <td>Adam_Donachie</td>\n",
              "      <td>BAL</td>\n",
              "      <td>Catcher</td>\n",
              "      <td>74</td>\n",
              "      <td>180</td>\n",
              "      <td>22.99</td>\n",
              "      <td>Catcher</td>\n",
              "    </tr>\n",
              "    <tr>\n",
              "      <th>2</th>\n",
              "      <td>Paul_Bako</td>\n",
              "      <td>BAL</td>\n",
              "      <td>Catcher</td>\n",
              "      <td>74</td>\n",
              "      <td>215</td>\n",
              "      <td>34.69</td>\n",
              "      <td>Catcher</td>\n",
              "    </tr>\n",
              "    <tr>\n",
              "      <th>3</th>\n",
              "      <td>Ramon_Hernandez</td>\n",
              "      <td>BAL</td>\n",
              "      <td>Catcher</td>\n",
              "      <td>72</td>\n",
              "      <td>210</td>\n",
              "      <td>30.78</td>\n",
              "      <td>Catcher</td>\n",
              "    </tr>\n",
              "    <tr>\n",
              "      <th>4</th>\n",
              "      <td>Kevin_Millar</td>\n",
              "      <td>BAL</td>\n",
              "      <td>First_Baseman</td>\n",
              "      <td>72</td>\n",
              "      <td>210</td>\n",
              "      <td>35.43</td>\n",
              "      <td>Infielder</td>\n",
              "    </tr>\n",
              "    <tr>\n",
              "      <th>5</th>\n",
              "      <td>Chris_Gomez</td>\n",
              "      <td>BAL</td>\n",
              "      <td>First_Baseman</td>\n",
              "      <td>73</td>\n",
              "      <td>188</td>\n",
              "      <td>35.71</td>\n",
              "      <td>Infielder</td>\n",
              "    </tr>\n",
              "  </tbody>\n",
              "</table>\n",
              "</div>"
            ],
            "text/plain": [
              "              Name Team       Position  Height  Weight    Age PosCategory\n",
              "1    Adam_Donachie  BAL        Catcher      74     180  22.99     Catcher\n",
              "2        Paul_Bako  BAL        Catcher      74     215  34.69     Catcher\n",
              "3  Ramon_Hernandez  BAL        Catcher      72     210  30.78     Catcher\n",
              "4     Kevin_Millar  BAL  First_Baseman      72     210  35.43   Infielder\n",
              "5      Chris_Gomez  BAL  First_Baseman      73     188  35.71   Infielder"
            ]
          },
          "execution_count": 12,
          "metadata": {},
          "output_type": "execute_result"
        }
      ],
      "source": [
        "raw_df = pd.read_csv(\"mlb.txt\", sep=\" \")\n",
        "raw_df.head()"
      ]
    },
    {
      "cell_type": "code",
      "execution_count": 13,
      "metadata": {},
      "outputs": [],
      "source": [
        "def accuracy(y_true, y_pred):\n",
        "    acc = np.sum(y_true == y_pred) / len(y_pred)\n",
        "    return acc\n",
        "\n",
        "def compare_df(y_true, y_pred):\n",
        "    return pd.DataFrame.from_dict({\n",
        "        \"real\": y_true,\n",
        "        \"predict\": y_pred\n",
        "    })\n",
        "\n",
        "def splitData(df, train_frac=0.8):\n",
        "    nrow = df.shape[0]\n",
        "    train_len = math.floor(nrow * train_frac)\n",
        "    test_len = nrow - train_len\n",
        "    return df.head(train_len), df.tail(test_len)\n",
        "\n",
        "train, test = splitData(raw_df)"
      ]
    },
    {
      "cell_type": "markdown",
      "metadata": {
        "id": "UhpK644rSDBB"
      },
      "source": [
        "## K Nearest Neighbors (KNN)\n",
        "\n",
        "In this section, we will use kNN algorithm to predict a particular will vote yes/no to a bill from the user's identities.\n",
        "The key idea of kNN is to find the distance of a instance to the existing data, then use the closest one as the guess.\n",
        "\n",
        "Here we will only use Height and Age to predict Weight."
      ]
    },
    {
      "cell_type": "code",
      "execution_count": 14,
      "metadata": {},
      "outputs": [],
      "source": [
        "class kNN:\n",
        "    def __init__(self,k=3):\n",
        "        self.k = k\n",
        "\n",
        "    def fit(self, X, y):\n",
        "        self.X_train = X.to_numpy()\n",
        "        self.y_train = y.to_numpy()\n",
        "\n",
        "        \n",
        "    def predict_df(self, X):\n",
        "        predicted_labels = [self._predict(x) for x in X.to_numpy()]\n",
        "        return np.array(predicted_labels)\n",
        "\n",
        "    def predict(self, X):\n",
        "        return self._predict(np.array(X))\n",
        "\n",
        "    def _predict(self, x):\n",
        "        # compute the distances\n",
        "        distances = [self._distance(x, x_train) for x_train in self.X_train]\n",
        "        \n",
        "        # get the k-nearest samples, labels\n",
        "        # sort distances, return an array of indices, get only first k\n",
        "        k_indices = np.argsort(distances)[:self.k]\n",
        "        k_nearest_labels = [self.y_train[i] for i in k_indices]\n",
        "        # majority vote, most common class label\n",
        "        most_common = Counter(k_nearest_labels).most_common(1)\n",
        "        \n",
        "        return most_common[0][0]\n",
        "    \n",
        "    def _distance(self, x1, x2):\n",
        "        return np.sqrt(np.sum((x1 - x2) ** 2))"
      ]
    },
    {
      "cell_type": "code",
      "execution_count": 15,
      "metadata": {},
      "outputs": [
        {
          "data": {
            "text/plain": [
              "'Starting_Pitcher'"
            ]
          },
          "execution_count": 15,
          "metadata": {},
          "output_type": "execute_result"
        }
      ],
      "source": [
        "X_train = train[['Height', 'Age', 'Weight']]\n",
        "y_train = train['Position']\n",
        "X_test = test[['Height', 'Age', 'Weight']]\n",
        "y_test = test['Position']\n",
        "\n",
        "model = kNN()\n",
        "model.fit(X_train, y_train)\n",
        "\n",
        "model.predict([100, 23, 200])"
      ]
    },
    {
      "cell_type": "code",
      "execution_count": 16,
      "metadata": {},
      "outputs": [
        {
          "name": "stdout",
          "output_type": "stream",
          "text": [
            "                real           predict\n",
            "831          Catcher    Relief_Pitcher\n",
            "832          Catcher           Catcher\n",
            "833          Catcher     Third_Baseman\n",
            "834    First_Baseman  Starting_Pitcher\n",
            "835   Second_Baseman  Starting_Pitcher\n",
            "...              ...               ...\n",
            "1030  Relief_Pitcher    Relief_Pitcher\n",
            "1031  Relief_Pitcher    Relief_Pitcher\n",
            "1032  Relief_Pitcher  Starting_Pitcher\n",
            "1033  Relief_Pitcher    Relief_Pitcher\n",
            "1034  Relief_Pitcher    Relief_Pitcher\n",
            "\n",
            "[203 rows x 2 columns]\n",
            "The accuracy of our model:  0.26108374384236455\n"
          ]
        }
      ],
      "source": [
        "predictions = model.predict_df(X_test)\n",
        "print(compare_df(y_test, predictions))\n",
        "print(\"The accuracy of our model: \", accuracy(y_test, predictions))"
      ]
    },
    {
      "cell_type": "markdown",
      "metadata": {
        "id": "AOi-sUXYjth1"
      },
      "source": [
        "## Naive Bayes\n",
        "\n",
        "The idea of this algorithm comes directly from conditional probability (Bayes Theorem).\n",
        "$$\n",
        "P(y | X) = \\frac{P(X | y) \\cdot P(y)}{P(X)} = \\frac{P(X_1 | y) \\cdots P(X_n | y) \\cdot P(y)}{P(X)}\n",
        "$$\n",
        "assuming all features are independent.\n",
        "\n",
        "So if we want to choose the $y$ with highest probability, it would be\n",
        "$$\n",
        "y = \\argmax_y P(y | X) = \\argmax_y \\frac{P(X_1 | y) \\cdots P(X_n | y) \\cdot P(y)}{P(X)}\n",
        "$$\n",
        "\n",
        "For each $P(X_i | y)$ assume normal distribution, the probability is\n",
        "$$\n",
        "P(X_i | y) = \\frac{1}{\\sigma \\sqrt{2\\pi}} e^{- \\frac{1}{2}(\\frac{x - \\mu}{\\sigma})^2}\n",
        "$$\n",
        "where $\\sigma$ is the standard deviation of $y$ and $\\mu$ is the mean of $y$."
      ]
    },
    {
      "cell_type": "code",
      "execution_count": 17,
      "metadata": {
        "id": "qN9w1-Afj3aY"
      },
      "outputs": [],
      "source": [
        "class NaiveBayes:\n",
        "    def __init__(self):\n",
        "        self._classes = []\n",
        "        self._mean = {}\n",
        "        self._var = {}\n",
        "        self._priors = {}\n",
        "\n",
        "    def fit(self, X, y):\n",
        "        n_samples, n_features = X.shape\n",
        "        # find unique elements of y, use as classes\n",
        "        self._classes = np.unique(y)\n",
        "\n",
        "        for c in self._classes:    # for each class\n",
        "            X_c = X[y == c]\n",
        "            self._mean[c] = X_c.mean(axis=0)    # find mean of each column\n",
        "            self._var[c] = X_c.var(axis=0)\n",
        "            # frequency of this class in training sample\n",
        "            self._priors[c] = X_c.shape[0]/float(n_samples)\n",
        "\n",
        "    def predict_df(self, X):\n",
        "        X = X.to_numpy()\n",
        "        y_pred = [self._predict(x) for x in X]\n",
        "        return y_pred\n",
        "    \n",
        "    def predict(self, X):\n",
        "        return self._predict(np.array(X))\n",
        "\n",
        "    def _predict(self, x):    # one sample\n",
        "        posteriors = []\n",
        "        for c in self._classes:\n",
        "            prior = self._priors[c]    # with current index\n",
        "            class_conditional = np.sum(np.log(self._pdf(c, x)))\n",
        "            posterior = prior + class_conditional\n",
        "            posteriors.append(posterior)\n",
        "        return self._classes[np.argmax(posteriors)]\n",
        "\n",
        "    def _pdf(self, class_name, x):    # probability density function\n",
        "        mean = self._mean[class_name].values\n",
        "        var = self._var[class_name].values\n",
        "\n",
        "        numerator = np.exp(- (x-mean)**2/(2*var))\n",
        "        denominator = np.sqrt(2*np.pi*var)\n",
        "        return numerator/denominator\n"
      ]
    },
    {
      "cell_type": "code",
      "execution_count": 18,
      "metadata": {},
      "outputs": [
        {
          "data": {
            "text/plain": [
              "'Starting_Pitcher'"
            ]
          },
          "execution_count": 18,
          "metadata": {},
          "output_type": "execute_result"
        }
      ],
      "source": [
        "model = NaiveBayes()\n",
        "model.fit(X_train, y_train)\n",
        "\n",
        "model.predict([100, 23, 200])\n"
      ]
    },
    {
      "cell_type": "code",
      "execution_count": 19,
      "metadata": {},
      "outputs": [
        {
          "name": "stdout",
          "output_type": "stream",
          "text": [
            "                real           predict\n",
            "831          Catcher           Catcher\n",
            "832          Catcher           Catcher\n",
            "833          Catcher    Second_Baseman\n",
            "834    First_Baseman  Starting_Pitcher\n",
            "835   Second_Baseman    Second_Baseman\n",
            "...              ...               ...\n",
            "1030  Relief_Pitcher         Shortstop\n",
            "1031  Relief_Pitcher         Shortstop\n",
            "1032  Relief_Pitcher    Relief_Pitcher\n",
            "1033  Relief_Pitcher    Relief_Pitcher\n",
            "1034  Relief_Pitcher        Outfielder\n",
            "\n",
            "[203 rows x 2 columns]\n",
            "The accuracy of our model:  0.2315270935960591\n"
          ]
        }
      ],
      "source": [
        "predictions = model.predict_df(X_test)\n",
        "print(compare_df(y_test, predictions))\n",
        "print(\"The accuracy of our model: \", accuracy(y_test, predictions))"
      ]
    },
    {
      "cell_type": "markdown",
      "metadata": {
        "id": "kkCmjn_ZjwnZ"
      },
      "source": [
        "## Support Vector Machine (SVM)"
      ]
    },
    {
      "cell_type": "code",
      "execution_count": null,
      "metadata": {
        "id": "ZX5Aasdgj4GD"
      },
      "outputs": [],
      "source": []
    }
  ],
  "metadata": {
    "colab": {
      "collapsed_sections": [],
      "name": "HackerHub_Classification.ipynb",
      "provenance": []
    },
    "kernelspec": {
      "display_name": "Python 3",
      "name": "python3"
    },
    "language_info": {
      "codemirror_mode": {
        "name": "ipython",
        "version": 3
      },
      "file_extension": ".py",
      "mimetype": "text/x-python",
      "name": "python",
      "nbconvert_exporter": "python",
      "pygments_lexer": "ipython3",
      "version": "3.9.10"
    }
  },
  "nbformat": 4,
  "nbformat_minor": 0
}
